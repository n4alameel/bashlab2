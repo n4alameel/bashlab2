{
  "metadata": {
    "language_info": {
      "codemirror_mode": {
        "name": "python",
        "version": 3
      },
      "file_extension": ".py",
      "mimetype": "text/x-python",
      "name": "python",
      "nbconvert_exporter": "python",
      "pygments_lexer": "ipython3",
      "version": "3.8"
    },
    "kernelspec": {
      "name": "python",
      "display_name": "Python (Pyodide)",
      "language": "python"
    }
  },
  "nbformat_minor": 4,
  "nbformat": 4,
  "cells": [
    {
      "cell_type": "code",
      "source": "import logging\nimport boto3\nfrom botocore.exceptions import ClientError\nimport os\nimport urllib.request, json\nimport csv\nwith urllib.request.urlopen(\"https://bank.gov.ua/NBU_Exchange/exchange_site?start=20210101&end=%2020211231&valcode=usd&sort=exchangedate&order=asc&json\") as url:\n    usd_data = json.load(url)\njson_string = json.dumps(usd_data)\nwith open('usd_json_data.json', 'w') as outfile:\n    outfile.write(json_string)",
      "metadata": {},
      "execution_count": null,
      "outputs": []
    },
    {
      "cell_type": "code",
      "source": "with urllib.request.urlopen(\"https://bank.gov.ua/NBU_Exchange/exchange_site?start=20210101&end=%2020211231&valcode=eur&sort=exchangedate&order=asc&json\") as url:\n    eur_data = json.load(url)\njson_string = json.dumps(eur_data)\nwith open('eur_json_data.json', 'w') as outfile:\n    outfile.write(json_string)",
      "metadata": {},
      "execution_count": null,
      "outputs": []
    },
    {
      "cell_type": "code",
      "source": "import urllib.request, json\nimport csv\nusd_csv_data = open('usd_csv_data.csv', 'w')\ncsv_writer = csv.writer(usd_csv_data)\ncount = 0\nwith open('usd_json_data.json') as json_file:\n    data = json.load(json_file)\nfor c in data:\n    if count == 0:\n        header = c.keys()\n        csv_writer.writerow(header)\n        count += 1\n    csv_writer.writerow(c.values())\nusd_csv_data.close()\n",
      "metadata": {},
      "execution_count": null,
      "outputs": []
    },
    {
      "cell_type": "code",
      "source": "def upload_file(file_name, bucket, object_name=None):\n    if object_name is None:\n        object_name = os.path.basename(file_name)\n\n    s3_client = boto3.client('s3')\n    try:\n        response = s3_client.upload_file('usd_csv_data.csv', 'myihbucket1', 'usd_csv_data.csv')\n    except ClientError as e:\n        logging.error(e)\n        return False\n    return True\nupload_file('usd_csv_data.csv', 'myihbucket1', 'usd_csv_data.csv')\n",
      "metadata": {},
      "execution_count": null,
      "outputs": []
    },
    {
      "cell_type": "code",
      "source": "eur_csv_data = open('eur_csv_data.csv', 'w')\ncsv_writer = csv.writer(eur_csv_data)\ncount = 0\nwith open('eur_json_data.json') as json_file:\n    data = json.load(json_file)\nfor c in data:\n    if count == 0:\n        header = c.keys()\n        csv_writer.writerow(header)\n        count += 1\n    csv_writer.writerow(c.values())\neur_csv_data.close()\n",
      "metadata": {},
      "execution_count": null,
      "outputs": []
    },
    {
      "cell_type": "code",
      "source": "def upload_file(file_name, bucket, object_name=None):\n    if object_name is None:\n        object_name = os.path.basename(file_name)\n\n    s3_client = boto3.client('s3')\n    try:\n        response = s3_client.upload_file('eur_csv_data.csv', 'myihbucket1', 'eur_csv_data.csv')\n    except ClientError as e:\n        logging.error(e)\n        return False\n    return True\nupload_file('eur_csv_data.csv', 'myihbucket1', 'eur_csv_data.csv')\n",
      "metadata": {},
      "execution_count": null,
      "outputs": []
    },
    {
      "cell_type": "code",
      "source": "s3_client.download_file('myihbucket1', 'usd_csv_data.csv', 'usd_data.csv')\ns3_client.download_file('myihbucket1', 'eur_csv_data.csv', 'eur_data.csv')",
      "metadata": {},
      "execution_count": null,
      "outputs": []
    },
    {
      "cell_type": "code",
      "source": "import pandas as pd\nimport matplotlib.pyplot as plt\nusd_df = pd.read_csv('usd_data.csv')\neur_df = pd.read_csv('eur_data.csv')\nplt.plot(usd_df['calcdate'], usd_df['rate'], label='usd')\nplt.plot(eur_df['calcdate'], eur_df['rate'], label='eur')\nplt.legend(loc='best', fontsize=12)\nplt.savefig('graphic_lab2.png')\ndef upload_file(file_name, bucket, object_name=None):\n    if object_name is None:\n        object_name = os.path.basename(file_name)\n\n    s3_client = boto3.client('s3')\n    try:\n        response = s3_client.upload_file('graphic_lab2.png', 'myihbucket1', 'graphic_lab2.png')\n    except ClientError as e:\n        logging.error(e)\n        return False\n    return True\nupload_file('graphic_lab2.png', 'myihbucket1', 'graphic_lab2.png')\n",
      "metadata": {},
      "execution_count": null,
      "outputs": []
    }
  ]
}